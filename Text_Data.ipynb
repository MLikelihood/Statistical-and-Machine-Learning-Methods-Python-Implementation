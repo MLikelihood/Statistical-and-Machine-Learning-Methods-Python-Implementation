{
 "cells": [
  {
   "cell_type": "code",
   "execution_count": 4,
   "metadata": {},
   "outputs": [
    {
     "data": {
      "text/plain": [
       "'\\ufeffProject Gutenberg\\'s How to be Happy Though Married, by Edward John  Hardy\\r\\n\\r\\nThis eBook is for the use of anyone anywhere at no cost and with\\r\\nalmost no restrictions whatsoever.  You may copy it, give it away or\\r\\nre-use it under the terms of the Project Gutenberg License included\\r\\nwith this eBook or online at www.gutenberg.org\\r\\n\\r\\n\\r\\nTitle: How to be Happy Though Married\\r\\n       Being a Handbook to Marriage\\r\\n\\r\\nAuthor: Edward John  Hardy\\r\\n\\r\\nRelease Date: March 9, 2011 [EBook #35534]\\r\\n\\r\\nLanguage: English\\r\\n\\r\\n\\r\\n*** START OF THIS PROJECT GUTENBERG EBOOK HOW TO BE HAPPY THOUGH MARRIED ***\\r\\n\\r\\n\\r\\n\\r\\n\\r\\nProduced by Colin Bell, Christine P. Travers and the Online\\r\\nDistributed Proofreading Team at http://www.pgdp.net (This\\r\\nfile was produced from images generously made available\\r\\nby The Internet Archive)\\r\\n\\r\\n\\r\\n\\r\\n\\r\\n\\r\\n\\r\\n[Transcriber\\'s note: The author\\'s spelling has been maintained.\\r\\n\\r\\n+ signs around words indicate the use of a different font in the book.\\r\\n\\r\\nIn the word \"Puranic\", the \"a\" is overlined i'"
      ]
     },
     "execution_count": 4,
     "metadata": {},
     "output_type": "execute_result"
    }
   ],
   "source": [
    "%matplotlib inline\n",
    "import matplotlib.pyplot as plt\n",
    "import numpy as np\n",
    "%precision 4\n",
    "import os, sys, glob\n",
    "import regex as re\n",
    "import string\n",
    "import requests\n",
    "url = \"http://www.gutenberg.org/cache/epub/35534/pg35534.txt\"\n",
    "raw = requests.get(url).text\n",
    "# peek at the first 1000 characters of the downloaded text\n",
    "raw[:1000]"
   ]
  },
  {
   "cell_type": "code",
   "execution_count": 5,
   "metadata": {
    "scrolled": true
   },
   "outputs": [
    {
     "data": {
      "text/plain": [
       "'\\r\\n\\r\\n\\r\\n\\r\\n\\r\\nProduced by Colin Bell, Christine P. Travers and the Online\\r\\nDistributed Proofreading Team at http://www.pgdp.net (This\\r\\nfile was produced from images generously made available\\r\\nby The Internet Archive)\\r\\n\\r\\n\\r\\n\\r\\n\\r\\n\\r\\n\\r\\n[Transcriber\\'s note: The author\\'s spelling has been maintained.\\r\\n\\r\\n+ signs around words indicate the use of a different font in the book.\\r\\n\\r\\nIn the word \"Puranic\", the \"a\" is overlined in the book.]\\r\\n\\r\\n\\r\\n\\r\\n\\r\\n_HOW TO BE HAPPY THOUGH MARRIED._\\r\\n\\r\\n\\r\\n\\r\\n\\r\\nPRESS NOTICES ON THE FIRST EDITION.\\r\\n\\r\\n  \"_If wholesome advice you can brook,\\r\\n    When single too long you have tarried;\\r\\n  If comfort you\\'d gain from a book,\\r\\n    When very much wedded and harried;\\r\\n  No doubt you should speedily look,\\r\\n    In \\'How to be Happy though Married!\\'_\"--PUNCH.\\r\\n\\r\\n\\r\\n\"We strongly recommend this book as one of the best of wedding presents.\\r\\nIt is a complete handbook to an earthly Paradise, and its author may be\\r\\nregarded as the Murray of Matrimony and the Baedeker of Bliss.\"--_Pall\\r\\nMall Gaze'"
      ]
     },
     "execution_count": 5,
     "metadata": {},
     "output_type": "execute_result"
    }
   ],
   "source": [
    "start = re.search(r\"\\*\\*\\* START OF THIS PROJECT GUTENBERG EBOOK .* \\*\\*\\*\", raw).end()\n",
    "stop = re.search(r\"End of the Project Gutenberg EBook\", raw).start()\n",
    "text = raw[start:stop]\n",
    "text[:1000]"
   ]
  },
  {
   "cell_type": "code",
   "execution_count": null,
   "metadata": {
    "collapsed": true
   },
   "outputs": [],
   "source": [
    "# If you need to be more careful, use the nltk tokenizer.\n",
    "import nltk\n",
    "from multiprocessing import Pool\n",
    "from itertools import chain\n",
    "punkt = nltk.data.load('tokenizers/punkt/english.pickle')\n",
    "sentences = punkt.tokenize(text.lower())\n",
    "# since the tokenizer works on a per sentence level, we can parallelize\n",
    "p = Pool()\n",
    "words2 = list(chain.from_iterable(p.map(nltk.tokenize.word_tokenize, sentences)))\n",
    "p.close()\n",
    "# Now remove words that consist of only punctuation characters\n",
    "words2 = [word for word in words2 if not all(char in string.punctuation for char in word)]\n",
    "# Remove contractions - wods that begin with '\n",
    "words2 = [word for word in words2 if not (word.startswith(\"'\") and len(word) <=2)]\n",
    "#print (words2[:100])\n",
    "len(words2)\n"
   ]
  }
 ],
 "metadata": {
  "kernelspec": {
   "display_name": "Python 3",
   "language": "python",
   "name": "python3"
  },
  "language_info": {
   "codemirror_mode": {
    "name": "ipython",
    "version": 3
   },
   "file_extension": ".py",
   "mimetype": "text/x-python",
   "name": "python",
   "nbconvert_exporter": "python",
   "pygments_lexer": "ipython3",
   "version": "3.6.1"
  }
 },
 "nbformat": 4,
 "nbformat_minor": 2
}
